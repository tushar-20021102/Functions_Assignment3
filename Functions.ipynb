{
  "nbformat": 4,
  "nbformat_minor": 0,
  "metadata": {
    "colab": {
      "provenance": []
    },
    "kernelspec": {
      "name": "python3",
      "display_name": "Python 3"
    },
    "language_info": {
      "name": "python"
    }
  },
  "cells": [
    {
      "cell_type": "markdown",
      "source": [
        "***Pratical Questions***\n",
        "1. What is the difference between a function and a method in Python?\n",
        "  - A function is defined independently using def, while a method is defined inside a class.\n",
        "\n",
        "  - Functions are called directly by name, but methods are called on objects (or classes).\n",
        "\n",
        "  - A function’s parameters are only what you pass, but a method’s first parameter is usually self (instance) or cls (class).\n",
        "\n",
        "  - Functions are not bound to any object, whereas methods are bound to the class or its instances.\n",
        "\n",
        "All methods are functions, but not all functions are methods.\n",
        "\n",
        "2. Explain the concept of function arguments and parameters in Python?\n",
        "  - In Python, parameters are variables listed in a function’s definition, while arguments are the actual values passed when calling the function. For example, in def greet(name): ..., name is a parameter, and in greet(\"Alice\"), \"Alice\" is an argument. Python allows different types of arguments: positional, keyword, default, and variable-length (*args, **kwargs). In short, parameters act as placeholders, and arguments provide the real data during function execution.\n",
        "\n",
        "3.  What are the different ways to define and call a function in Python?\n",
        "  - In Python, a function can be defined using the def keyword or as an anonymous function using lambda. Functions can be called in different ways: with positional arguments (add(2, 3)), keyword arguments (add(a=2, b=3)), default arguments (greet() when def greet(name=\"Guest\")), and variable-length arguments (*args for multiple values, **kwargs for key-value pairs). Thus, Python provides flexible ways to both define and call functions.\n",
        "\n",
        "4. What is the purpose of the `return` statement in a Python function?\n",
        "  - The return statement in Python is used to send a value from a function back to the caller. It ends the function’s execution and provides the result that can be stored in a variable or used in expressions. If no return is given, the function returns None by default. In short, return makes functions produce outputs instead of just performing actions.\n",
        "\n",
        "5.  What are iterators in Python and how do they differ from iterables?\n",
        "  - In Python, an iterable is any object that can be looped over (like lists, tuples, strings, sets, dictionaries) and provides an __iter__() method that returns an iterator. An iterator is the object that actually performs the iteration and implements both __iter__() and __next__() methods, returning elements one at a time until a StopIteration exception is raised.\n",
        "  - Difference: Iterables can be converted into iterators, while iterators are the objects used to fetch values one by one during iteration.\n",
        "\n",
        "6.  Explain the concept of generators in Python and how they are defined.\n",
        "  - In Python, a generator is a special type of iterator that is defined using a function with the yield keyword instead of return. Each time the generator’s __next__() is called, execution resumes from the last yield statement, producing values one at a time without storing the entire sequence in memory. This makes generators memory-efficient and suitable for large data or infinite sequences.\n",
        "\n",
        "7. What are the advantages of using generators over regular functions?\n",
        "  - The advantages of using generators over regular functions are:\n",
        "\n",
        "  - Memory efficiency – they produce values one at a time instead of storing the entire sequence in memory.\n",
        "\n",
        "  - Lazy evaluation – values are generated only when needed, which improves performance for large or infinite data.\n",
        "\n",
        "  - Improved readability – they simplify writing iterators without manually managing __iter__() and __next__().\n",
        "\n",
        "  - Better performance – less overhead compared to building and returning large data structures.\n",
        "\n",
        "  - Convenient for pipelines – they can be chained to process data streams smoothly.\n",
        "8.  What is a lambda function in Python and when is it typically used?\n",
        "    - A lambda function in Python is a small, anonymous function defined with the lambda keyword instead of def. It can take any number of arguments but has only one expression, which is implicitly returned. Lambda functions are typically used for short, throwaway operations where defining a full function would be unnecessary, such as in sorting, filtering, mapping, or when passing a simple function as an argument. In short, they’re useful for concise, one-line functions needed temporarily.\n",
        "\n",
        "9.  Explain the purpose and usage of the `map()` function in Python.\n",
        "  - The map() function in Python is used to apply a given function to each item of an iterable (like a list, tuple, or set) and return a map object (an iterator) containing the results. Its syntax is map(function, iterable). It is often used with built-in functions, user-defined functions, or lambda functions for concise data transformations. The result can be converted into a list, tuple, or set if needed. Example uses include applying mathematical operations to all elements, converting data types, or processing collections efficiently.\n",
        "\n",
        "10. What is the difference between `map()`, `reduce()`, and `filter()` functions in Python?\n",
        "  - map(function, iterable) – applies a function to each element of an iterable and returns a new iterable with the transformed values.\n",
        "\n",
        "  - filter(function, iterable) – applies a function that returns True or False to each element and returns only the elements that satisfy the condition.\n",
        "\n",
        "  - reduce(function, iterable) – applies a function cumulatively to the elements of an iterable, reducing it to a single value (e.g., sum, product).\n",
        "\n",
        "11.  Using pen & Paper write the internal mechanism for sum operation using  reduce function on this given\n",
        "list:[47,11,42,13]\n",
        "  - List: [47, 11, 42, 13]\n",
        "  - Operation: reduce(sum, list)\n",
        "\n",
        "  - reduce() takes the first two elements → 47 and 11 → applies sum:\n",
        "\n",
        "   47 + 11 = 58\n",
        "\n",
        "\n",
        "  - It then takes the result (58) and the next element (42):\n",
        "\n",
        "   58 + 42 = 100\n",
        "\n",
        "\n",
        "  - It then takes the result (100) and the next element (13):\n",
        "\n",
        "   100 + 13 = 113\n",
        "\n",
        "\n",
        "  - No more elements left → final result = 113.\n",
        "\n",
        "   So on pen & paper, you’d show it like this:\n",
        "\n",
        "  - Step 1: (47 + 11) = 58  \n",
        "  - Step 2: (58 + 42) = 100  \n",
        "  - Step 3: (100 + 13) = 113  \n",
        "  - Final Result = 113"
      ],
      "metadata": {
        "id": "8D_8L3ReuuL2"
      }
    },
    {
      "cell_type": "code",
      "source": [
        "'''1. Write a Python function that takes a list of numbers as input and returns the sum of all even numbers in\n",
        "the list'''\n",
        "\n",
        "def sum_even_numbers(numbers):\n",
        "  total = 0\n",
        "  for num in numbers:\n",
        "      if num % 2 == 0:   # check if number is even\n",
        "          total += num\n",
        "  return total\n",
        "\n",
        "# Example usage\n",
        "nums = [10, 15, 20, 25, 30]\n",
        "print(sum_even_numbers(nums))"
      ],
      "metadata": {
        "colab": {
          "base_uri": "https://localhost:8080/"
        },
        "id": "wJN5yThPy245",
        "outputId": "3e8dae20-7e8d-462a-d2ce-90d7cfad3b39"
      },
      "execution_count": 2,
      "outputs": [
        {
          "output_type": "stream",
          "name": "stdout",
          "text": [
            "60\n"
          ]
        }
      ]
    },
    {
      "cell_type": "code",
      "source": [
        "'''2.  Create a Python function that accepts a string and returns the reverse of that string.'''\n",
        "def reverse_string(s):\n",
        "    return s[::-1]   # slicing to reverse\n",
        "\n",
        "# Example usage\n",
        "text = \"Hello\"\n",
        "print(reverse_string(text))  # Output: \"olleH\"\n"
      ],
      "metadata": {
        "colab": {
          "base_uri": "https://localhost:8080/"
        },
        "id": "Loh7pfXdzhYy",
        "outputId": "c77874df-3f04-4e25-e124-a2ee0a9ca258"
      },
      "execution_count": 3,
      "outputs": [
        {
          "output_type": "stream",
          "name": "stdout",
          "text": [
            "olleH\n"
          ]
        }
      ]
    },
    {
      "cell_type": "code",
      "source": [
        "'''3. Implement a Python function that takes a list of integers and returns a new list containing the squares of\n",
        "each number.'''\n",
        "def square_list(numbers):\n",
        "    return [num ** 2 for num in numbers]   # list comprehension\n",
        "\n",
        "# Example usage\n",
        "nums = [1, 2, 3, 4, 5]\n",
        "print(square_list(nums))  # Output: [1, 4, 9, 16, 25]\n"
      ],
      "metadata": {
        "colab": {
          "base_uri": "https://localhost:8080/"
        },
        "id": "BnpYkv_b0f7N",
        "outputId": "0cd9b222-1870-459a-cbf3-f6fbb26dc682"
      },
      "execution_count": 4,
      "outputs": [
        {
          "output_type": "stream",
          "name": "stdout",
          "text": [
            "[1, 4, 9, 16, 25]\n"
          ]
        }
      ]
    },
    {
      "cell_type": "code",
      "source": [
        "'''4. Write a Python function that checks if a given number is prime or not from 1 to 200.'''\n",
        "def is_prime(n):\n",
        "    if n < 2:\n",
        "        return False\n",
        "    for i in range(2, int(n**0.5) + 1):  # check up to sqrt(n)\n",
        "        if n % i == 0:\n",
        "            return False\n",
        "    return True\n",
        "\n",
        "# Print primes from 1 to 200\n",
        "for num in range(1, 201):\n",
        "    if is_prime(num):\n",
        "        print(num, end=\" \")\n"
      ],
      "metadata": {
        "colab": {
          "base_uri": "https://localhost:8080/"
        },
        "id": "iKQyArTM0sxE",
        "outputId": "50b862ef-98d1-4245-8a5c-6adec226ba0e"
      },
      "execution_count": 5,
      "outputs": [
        {
          "output_type": "stream",
          "name": "stdout",
          "text": [
            "2 3 5 7 11 13 17 19 23 29 31 37 41 43 47 53 59 61 67 71 73 79 83 89 97 101 103 107 109 113 127 131 137 139 149 151 157 163 167 173 179 181 191 193 197 199 "
          ]
        }
      ]
    },
    {
      "cell_type": "code",
      "source": [
        "'''5.  Create an iterator class in Python that generates the Fibonacci sequence up to a specified number of\n",
        "terms'''\n",
        "class FibonacciIterator:\n",
        "    def __init__(self, n_terms):\n",
        "        self.n_terms = n_terms   # total terms to generate\n",
        "        self.count = 0\n",
        "        self.a, self.b = 0, 1    # first two Fibonacci numbers\n",
        "\n",
        "    def __iter__(self):\n",
        "        return self\n",
        "\n",
        "    def __next__(self):\n",
        "        if self.count >= self.n_terms:\n",
        "            raise StopIteration   # end of iteration\n",
        "        if self.count == 0:\n",
        "            self.count += 1\n",
        "            return self.a\n",
        "        elif self.count == 1:\n",
        "            self.count += 1\n",
        "            return self.b\n",
        "        else:\n",
        "            self.a, self.b = self.b, self.a + self.b\n",
        "            self.count += 1\n",
        "            return self.b\n",
        "\n",
        "# Example usage\n",
        "fib = FibonacciIterator(10)\n",
        "for num in fib:\n",
        "    print(num, end=\" \")\n"
      ],
      "metadata": {
        "colab": {
          "base_uri": "https://localhost:8080/"
        },
        "id": "HaF8kCOG08KM",
        "outputId": "090b0eba-e2d7-4239-d07e-ffb427ffed72"
      },
      "execution_count": 6,
      "outputs": [
        {
          "output_type": "stream",
          "name": "stdout",
          "text": [
            "0 1 1 2 3 5 8 13 21 34 "
          ]
        }
      ]
    },
    {
      "cell_type": "code",
      "source": [
        "'''6.  Write a generator function in Python that yields the powers of 2 up to a given exponent. '''\n",
        "def powers_of_two(n):\n",
        "    for i in range(n + 1):   # include n\n",
        "        yield 2 ** i\n",
        "\n",
        "# Example usage\n",
        "for val in powers_of_two(5):\n",
        "    print(val, end=\" \")\n"
      ],
      "metadata": {
        "colab": {
          "base_uri": "https://localhost:8080/"
        },
        "id": "GMX7ng5B1MEz",
        "outputId": "8abaa6db-2c80-4e87-fba1-af73f2ff182b"
      },
      "execution_count": 7,
      "outputs": [
        {
          "output_type": "stream",
          "name": "stdout",
          "text": [
            "1 2 4 8 16 32 "
          ]
        }
      ]
    },
    {
      "cell_type": "code",
      "source": [
        "'''7. Implement a generator function that reads a file line by line and yields each line as a string'''\n",
        "def read_file_lines(filename):\n",
        "    with open(filename, \"r\") as file:\n",
        "        for line in file:\n",
        "            yield line.strip()   # remove trailing newline\n"
      ],
      "metadata": {
        "id": "3JLQF3IC1jPV"
      },
      "execution_count": 8,
      "outputs": []
    },
    {
      "cell_type": "code",
      "source": [
        "for line in read_file_lines(\"sample.txt\"):\n",
        "    print(line)\n"
      ],
      "metadata": {
        "colab": {
          "base_uri": "https://localhost:8080/"
        },
        "id": "NRlLo5-t11nw",
        "outputId": "fb80b407-b087-4e3d-b56b-e8e1ae70fee0"
      },
      "execution_count": 11,
      "outputs": [
        {
          "output_type": "stream",
          "name": "stdout",
          "text": [
            "This is the first line.\n",
            "This is the second line.\n",
            "And this is the third line.\n"
          ]
        }
      ]
    },
    {
      "cell_type": "code",
      "metadata": {
        "id": "ad2d3076"
      },
      "source": [
        "# Create a dummy file named sample.txt for demonstration\n",
        "with open(\"sample.txt\", \"w\") as f:\n",
        "  f.write(\"This is the first line.\\n\")\n",
        "  f.write(\"This is the second line.\\n\")\n",
        "  f.write(\"And this is the third line.\")"
      ],
      "execution_count": 12,
      "outputs": []
    },
    {
      "cell_type": "code",
      "source": [
        "'''8. Use a lambda function in Python to sort a list of tuples based on the second element of each tuple '''\n",
        "data = [(1, 4), (3, 1), (5, 9), (2, 6)]\n",
        "\n",
        "sorted_data = sorted(data, key=lambda x: x[1])\n",
        "\n",
        "print(sorted_data)\n"
      ],
      "metadata": {
        "colab": {
          "base_uri": "https://localhost:8080/"
        },
        "id": "O1vAZHqK2Eop",
        "outputId": "a050da5e-d6ea-4524-f594-d9851be4738e"
      },
      "execution_count": 13,
      "outputs": [
        {
          "output_type": "stream",
          "name": "stdout",
          "text": [
            "[(3, 1), (1, 4), (2, 6), (5, 9)]\n"
          ]
        }
      ]
    },
    {
      "cell_type": "code",
      "source": [
        "'''9. Write a Python program that uses `map()` to convert a list of temperatures from Celsius to Fahrenheit\n",
        " '''\n",
        "# Formula: F = (C * 9/5) + 32\n",
        "celsius = [0, 20, 37, 100]\n",
        "\n",
        "fahrenheit = list(map(lambda c: (c * 9/5) + 32, celsius))\n",
        "\n",
        "print(\"Celsius:\", celsius)\n",
        "print(\"Fahrenheit:\", fahrenheit)\n"
      ],
      "metadata": {
        "colab": {
          "base_uri": "https://localhost:8080/"
        },
        "id": "UIfIqe0C2Pq7",
        "outputId": "d18baa3c-4ca5-46fa-8cca-d6ede8a7f3b1"
      },
      "execution_count": 14,
      "outputs": [
        {
          "output_type": "stream",
          "name": "stdout",
          "text": [
            "Celsius: [0, 20, 37, 100]\n",
            "Fahrenheit: [32.0, 68.0, 98.6, 212.0]\n"
          ]
        }
      ]
    },
    {
      "cell_type": "code",
      "source": [
        "'''10. Create a Python program that uses `filter()` to remove all the vowels from a given string.'''\n",
        "def remove_vowels(text):\n",
        "    vowels = \"aeiouAEIOU\"\n",
        "    return \"\".join(filter(lambda ch: ch not in vowels, text))\n",
        "\n",
        "# Example usage\n",
        "string = \"Hello World\"\n",
        "result = remove_vowels(string)\n",
        "print(result)   # Output: Hll Wrld\n"
      ],
      "metadata": {
        "colab": {
          "base_uri": "https://localhost:8080/"
        },
        "id": "q8qUAwBk2Yhq",
        "outputId": "897c8a05-a102-4662-88e3-deef9e142d46"
      },
      "execution_count": 15,
      "outputs": [
        {
          "output_type": "stream",
          "name": "stdout",
          "text": [
            "Hll Wrld\n"
          ]
        }
      ]
    },
    {
      "cell_type": "code",
      "source": [
        "'''11. Imagine an accounting routine used in a book shop. It works on a list with sublists, which look like this\n",
        "\n",
        "\n",
        "Write a Python program, which returns a list with 2-tuples. Each tuple consists of the order number and the\n",
        "product of the price per item and the quantity. The product should be increased by 10,- € if the value of the\n",
        "order is smaller than 100,00 €.\n",
        "\n",
        "Write a Python program using lambda and map.'''\n",
        "\n",
        "# List of orders: (Order No, Book Title & Author, Quantity, Price per Item)\n",
        "orders = [\n",
        "    (34587, \"Learning Python, Mark Lutz\", 4, 40.95),\n",
        "    (98762, \"Programming Python, Mark Lutz\", 3, 56.80),\n",
        "    (77226, \"Head First Python, Paul Barry\", 5, 32.95),\n",
        "    (88112, \"Einführung in Python3, Bernd Klein\", 3, 24.99)\n",
        "]\n",
        "\n",
        "# Function to calculate total with condition\n",
        "invoice_totals = list(map(\n",
        "    lambda order: (order[0], order[2] * order[3] if order[2] * order[3] >= 100 else order[2] * order[3] + 10),\n",
        "    orders\n",
        "))\n",
        "\n",
        "print(invoice_totals)\n"
      ],
      "metadata": {
        "colab": {
          "base_uri": "https://localhost:8080/"
        },
        "id": "7iaU8tef2wUG",
        "outputId": "665d812f-6a9b-41f0-864b-dfee798a1735"
      },
      "execution_count": 16,
      "outputs": [
        {
          "output_type": "stream",
          "name": "stdout",
          "text": [
            "[(34587, 163.8), (98762, 170.39999999999998), (77226, 164.75), (88112, 84.97)]\n"
          ]
        }
      ]
    },
    {
      "cell_type": "code",
      "source": [],
      "metadata": {
        "id": "vTWd3tDk3vBU"
      },
      "execution_count": null,
      "outputs": []
    }
  ]
}